{
 "cells": [
  {
   "cell_type": "markdown",
   "metadata": {},
   "source": [
    "#calculating volume and surface area"
   ]
  },
  {
   "cell_type": "code",
   "execution_count": 31,
   "metadata": {},
   "outputs": [],
   "source": [
    "import math\n",
    "class cone():\n",
    "    def __init__(self,r,h):\n",
    "        self.r=r\n",
    "        self.h=h\n",
    "    def volume(self):\n",
    "        r1=self.r\n",
    "        h1=self.h\n",
    "        v=(3.14*r1**2*h1)//3\n",
    "        print(\"volume is \",v)\n",
    "    def surfaceArea(self):\n",
    "        r2=self.r\n",
    "        h2=self.h\n",
    "        h3=math.sqrt(h2**2+r2**2)\n",
    "        b=3.14*r2**2\n",
    "        h=3.14*r2*h3\n",
    "        sa=b*h\n",
    "        print(\"surface is \",\"{:.2f}\".format(sa))\n",
    "        \n",
    "        "
   ]
  },
  {
   "cell_type": "code",
   "execution_count": 32,
   "metadata": {},
   "outputs": [
    {
     "name": "stdout",
     "output_type": "stream",
     "text": [
      "volume is  83.0\n",
      "surface is  4040.46\n"
     ]
    }
   ],
   "source": [
    "obj=cone(4,5)\n",
    "obj.volume()\n",
    "obj.surfaceArea()"
   ]
  },
  {
   "cell_type": "code",
   "execution_count": 46,
   "metadata": {},
   "outputs": [],
   "source": [
    "class bankAcc():\n",
    "    def __init__(self,ownername,bal):\n",
    "        self.ownername=ownername\n",
    "        self.bal=bal\n",
    "    def deposite(self):\n",
    "        o=self.ownername\n",
    "        b=self.bal\n",
    "        print(\"name \",o)\n",
    "        print(\"balance \",b)\n",
    "    def withdraw(self):\n",
    "        o1=self.ownername\n",
    "        b1=self.bal\n",
    "        print(\"name \",o1)\n",
    "        amt=int(input(\"draw some mny -\"))\n",
    "        res=b1-amt\n",
    "        print(res)\n",
    "        if(res<=b1 and res>0):\n",
    "            print(\"more u can take\")\n",
    "        \n",
    "        else:\n",
    "            print(\"cant take\")"
   ]
  },
  {
   "cell_type": "code",
   "execution_count": 47,
   "metadata": {},
   "outputs": [
    {
     "name": "stdout",
     "output_type": "stream",
     "text": [
      "name  raja\n",
      "balance  52200\n",
      "name  raja\n"
     ]
    },
    {
     "name": "stdin",
     "output_type": "stream",
     "text": [
      "draw some mny - 58000\n"
     ]
    },
    {
     "name": "stdout",
     "output_type": "stream",
     "text": [
      "-5800\n",
      "cant take\n"
     ]
    }
   ],
   "source": [
    "sbi=bankAcc(\"raja\",52200)\n",
    "sbi.deposite()\n",
    "sbi.withdraw()"
   ]
  },
  {
   "cell_type": "code",
   "execution_count": null,
   "metadata": {},
   "outputs": [],
   "source": []
  }
 ],
 "metadata": {
  "kernelspec": {
   "display_name": "Python 3",
   "language": "python",
   "name": "python3"
  },
  "language_info": {
   "codemirror_mode": {
    "name": "ipython",
    "version": 3
   },
   "file_extension": ".py",
   "mimetype": "text/x-python",
   "name": "python",
   "nbconvert_exporter": "python",
   "pygments_lexer": "ipython3",
   "version": "3.8.3"
  }
 },
 "nbformat": 4,
 "nbformat_minor": 4
}
