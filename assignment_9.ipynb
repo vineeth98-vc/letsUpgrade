{
 "cells": [
  {
   "cell_type": "markdown",
   "metadata": {},
   "source": [
    "Using pylint and unittest"
   ]
  },
  {
   "cell_type": "code",
   "execution_count": 58,
   "metadata": {},
   "outputs": [
    {
     "name": "stdout",
     "output_type": "stream",
     "text": [
      "Overwriting module_primenum.py\n"
     ]
    }
   ],
   "source": [
    "%%writefile module_primenum.py\n",
    "'''write a prgm for prime or not\n",
    "'''\n",
    "NUM = 5\n",
    "def primeornot(num):\n",
    "    '''write the logic\n",
    "    '''\n",
    "    count = 0\n",
    "    for i in range(1, num + 1):\n",
    "        if num % i == 0:\n",
    "            count += 1\n",
    "    if count == 2:\n",
    "        print(\"its prime number\")\n",
    "    else:\n",
    "        print(\"not a prime number\")\n",
    "primeornot(NUM)      "
   ]
  },
  {
   "cell_type": "code",
   "execution_count": 59,
   "metadata": {},
   "outputs": [
    {
     "name": "stdout",
     "output_type": "stream",
     "text": [
      "************* Module module_primenum\n",
      "module_primenum.py:15:15: C0303: Trailing whitespace (trailing-whitespace)\n",
      "\n",
      "------------------------------------------------------------------\n",
      "\n",
      "Your code has been rated at 9.00/10 (previous run: 8.00/10, +1.00)\n",
      "\n",
      "\n",
      "\n"
     ]
    }
   ],
   "source": [
    "! pylint \"module_primenum.py\""
   ]
  },
  {
   "cell_type": "code",
   "execution_count": 110,
   "metadata": {},
   "outputs": [
    {
     "name": "stdout",
     "output_type": "stream",
     "text": [
      "Overwriting testprimenumber.py\n"
     ]
    }
   ],
   "source": [
    "%%writefile testprimenumber.py\n",
    "import unittest2\n",
    "import module_primenum\n",
    "class testprim(unittest2.TestCase):\n",
    "    def checkpr(self):\n",
    "        p = 8\n",
    "        res = module_primenum.primeornot(p)\n",
    "        self.assertEqual(res, \"not  prime number\")\n",
    "    \n",
    "if __name__ == \"__main__\":\n",
    "    unittest2.main()"
   ]
  },
  {
   "cell_type": "code",
   "execution_count": 111,
   "metadata": {
    "scrolled": true
   },
   "outputs": [
    {
     "name": "stdout",
     "output_type": "stream",
     "text": [
      "its prime number\n"
     ]
    },
    {
     "name": "stderr",
     "output_type": "stream",
     "text": [
      "\n",
      "----------------------------------------------------------------------\n",
      "Ran 0 tests in 0.000s\n",
      "\n",
      "OK\n"
     ]
    }
   ],
   "source": [
    "! python testprimenumber.py"
   ]
  },
  {
   "cell_type": "code",
   "execution_count": 80,
   "metadata": {},
   "outputs": [],
   "source": [
    "#generators"
   ]
  },
  {
   "cell_type": "code",
   "execution_count": 103,
   "metadata": {},
   "outputs": [],
   "source": [
    "def geneamstrong(lst):\n",
    "    for n in lst:\n",
    "        res=0\n",
    "        temp=n\n",
    "        while temp>0:\n",
    "            r=temp%10\n",
    "            res+=r**3\n",
    "            temp//=10\n",
    "        if n==res:\n",
    "            yield n"
   ]
  },
  {
   "cell_type": "code",
   "execution_count": 104,
   "metadata": {},
   "outputs": [],
   "source": [
    "lst=list(range(1,1000))"
   ]
  },
  {
   "cell_type": "code",
   "execution_count": 105,
   "metadata": {},
   "outputs": [
    {
     "name": "stdout",
     "output_type": "stream",
     "text": [
      "[1, 153, 370, 371, 407]\n"
     ]
    }
   ],
   "source": [
    "print(list(geneamstrong(lst)))"
   ]
  },
  {
   "cell_type": "code",
   "execution_count": null,
   "metadata": {},
   "outputs": [],
   "source": []
  }
 ],
 "metadata": {
  "kernelspec": {
   "display_name": "Python 3",
   "language": "python",
   "name": "python3"
  },
  "language_info": {
   "codemirror_mode": {
    "name": "ipython",
    "version": 3
   },
   "file_extension": ".py",
   "mimetype": "text/x-python",
   "name": "python",
   "nbconvert_exporter": "python",
   "pygments_lexer": "ipython3",
   "version": "3.8.3"
  }
 },
 "nbformat": 4,
 "nbformat_minor": 4
}
